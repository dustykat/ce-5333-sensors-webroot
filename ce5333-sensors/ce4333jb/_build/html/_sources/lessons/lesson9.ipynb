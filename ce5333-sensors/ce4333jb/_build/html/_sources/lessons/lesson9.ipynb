{
 "cells": [
  {
   "cell_type": "markdown",
   "metadata": {},
   "source": [
    "# Build and Test Analog-to-Digital Converter"
   ]
  },
  {
   "cell_type": "markdown",
   "metadata": {},
   "source": [
    "## Using the MCP3008\n",
    "\n",
    "### About the Chip\n",
    "\n",
    "### Manufacturer's Literature\n",
    "\n",
    "### "
   ]
  },
  {
   "cell_type": "markdown",
   "metadata": {},
   "source": [
    "## Python scripts to query the MCP3008"
   ]
  },
  {
   "cell_type": "markdown",
   "metadata": {},
   "source": [
    "```python\n",
    "import RPi.GPIO as GPIO\n",
    "import time\n",
    "\n",
    "\n",
    "# change these as desired - they're the pins connected from the\n",
    "# SPI port on the ADC to the Cobbler\n",
    "SPICLK = 11\n",
    "SPIMISO = 9\n",
    "SPIMOSI = 10\n",
    "SPICS = 8\n",
    "\n",
    "# photoresistor connected to adc #0\n",
    "photo_ch = 0\n",
    "\n",
    "#port init\n",
    "def init():\n",
    "         GPIO.setwarnings(False)\n",
    "         GPIO.cleanup()\t\t\t#clean up at the end of your script\n",
    "         GPIO.setmode(GPIO.BCM)\t\t#to specify whilch pin numbering system\n",
    "         # set up the SPI interface pins\n",
    "         GPIO.setup(SPIMOSI, GPIO.OUT)\n",
    "         GPIO.setup(SPIMISO, GPIO.IN)\n",
    "         GPIO.setup(SPICLK, GPIO.OUT)\n",
    "         GPIO.setup(SPICS, GPIO.OUT)\n",
    "         \n",
    "#read SPI data from MCP3008(or MCP3204) chip,8 possible adc's (0 thru 7)\n",
    "def readadc(adcnum, clockpin, mosipin, misopin, cspin):\n",
    "        if ((adcnum > 7) or (adcnum < 0)):\n",
    "                return -1\n",
    "        GPIO.output(cspin, True)\t\n",
    "\n",
    "        GPIO.output(clockpin, False)  # start clock low\n",
    "        GPIO.output(cspin, False)     # bring CS low\n",
    "\n",
    "        commandout = adcnum\n",
    "        commandout |= 0x18  # start bit + single-ended bit\n",
    "        commandout <<= 3    # we only need to send 5 bits here\n",
    "        for i in range(5):\n",
    "                if (commandout & 0x80):\n",
    "                        GPIO.output(mosipin, True)\n",
    "                else:\n",
    "                        GPIO.output(mosipin, False)\n",
    "                commandout <<= 1\n",
    "                GPIO.output(clockpin, True)\n",
    "                GPIO.output(clockpin, False)\n",
    "\n",
    "        adcout = 0\n",
    "        # read in one empty bit, one null bit and 10 ADC bits\n",
    "        for i in range(12):\n",
    "                GPIO.output(clockpin, True)\n",
    "                GPIO.output(clockpin, False)\n",
    "                adcout <<= 1\n",
    "                if (GPIO.input(misopin)):\n",
    "                        adcout |= 0x1\n",
    "\n",
    "        GPIO.output(cspin, True)\n",
    "        \n",
    "        adcout >>= 1       # first bit is 'null' so drop it\n",
    "        return adcout\n",
    "\n",
    "def main():\n",
    "         init()\n",
    "         time.sleep(5)\n",
    "         print(\" Multi-Channel Level Detector \\n\")\n",
    "#\t print \"Salt-Gradient Experiments \"\n",
    "#         print\" Experiment 2 - Detect on Channel 0 and 1 using sequential polling \\n\"\n",
    "         print(\" Data File Syntax is : \\n\")\n",
    "         print(\" Weekday Month Day HH:MM:SS Year : ADC Value \")\n",
    "         while True:\n",
    "                 # set channel\n",
    "                  photo_ch = 0\n",
    "                  adc_value=readadc(photo_ch, SPICLK, SPIMOSI, SPIMISO, SPICS)\n",
    "                  now = time.strftime(\"%c\") # capture actual time as center of sampling interval\n",
    "                  print (now + \" \" + \"CH: \" + str(photo_ch) + \" ADCVal: \" + str(adc_value))\n",
    "                  time.sleep(1) \n",
    "#                  photo_ch = 1\n",
    "#                  adc_value=readadc(photo_ch, SPICLK, SPIMOSI, SPIMISO, SPICS)\n",
    "#                  print now + \" : \" + \"Channel = \" + str(photo_ch) + \" Value = \" + str(adc_value) \n",
    "                 # if adc_value == 0:\n",
    "                 #          print\"no water\\n\"\n",
    "                 #          print\"adc_value :\"+str(adc_value)+\"\\n\"\n",
    "                 # elif adc_value>0 and adc_value<30 :\n",
    "                 #          print\"it is raindrop\\n\"\n",
    "                 #          print\"adc_value :\"+str(adc_value)+\"\\n\"\n",
    "                 # elif adc_value>=30 and adc_value<200 :\n",
    "                 #          print\"it is water flow\"\n",
    "                 #          print\"water level:\"+str(\"%.1f\"%(adc_value/200.*100))+\"%\\n\"\n",
    "                 #          print\"adc_value :\"+str(adc_value)+\"\\n\"\n",
    "                  #print \"adc_value= \" +str(adc_value)+\"\\n\"\n",
    "        \n",
    "\n",
    "if __name__ == '__main__':\n",
    "         try:\n",
    "                  main()\n",
    "                 \n",
    "         except KeyboardInterrupt:\n",
    "                  pass\n",
    "GPIO.cleanup()\n",
    "```"
   ]
  },
  {
   "cell_type": "markdown",
   "metadata": {},
   "source": [
    "## Using the AD as a voltmeter"
   ]
  },
  {
   "cell_type": "markdown",
   "metadata": {},
   "source": [
    "## Polling the MCP3008 to use all 8 channels"
   ]
  },
  {
   "cell_type": "markdown",
   "metadata": {},
   "source": []
  },
  {
   "cell_type": "markdown",
   "metadata": {},
   "source": []
  },
  {
   "cell_type": "markdown",
   "metadata": {},
   "source": []
  },
  {
   "cell_type": "markdown",
   "metadata": {},
   "source": []
  }
 ],
 "metadata": {
  "kernelspec": {
   "display_name": "Python 3",
   "language": "python",
   "name": "python3"
  },
  "language_info": {
   "codemirror_mode": {
    "name": "ipython",
    "version": 3
   },
   "file_extension": ".py",
   "mimetype": "text/x-python",
   "name": "python",
   "nbconvert_exporter": "python",
   "pygments_lexer": "ipython3",
   "version": "3.8.10"
  }
 },
 "nbformat": 4,
 "nbformat_minor": 4
}
