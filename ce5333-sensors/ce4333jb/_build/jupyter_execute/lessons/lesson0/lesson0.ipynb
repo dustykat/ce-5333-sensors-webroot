{
 "cells": [
  {
   "cell_type": "markdown",
   "metadata": {},
   "source": [
    "# Sensor system integration for Civil Engineers\n",
    "\n",
    "## Background\n",
    "\n",
    "## Purpose of the Course\n",
    "\n",
    "## Materials Required "
   ]
  }
 ],
 "metadata": {
  "kernelspec": {
   "display_name": "Python 3",
   "language": "python",
   "name": "python3"
  },
  "language_info": {
   "codemirror_mode": {
    "name": "ipython",
    "version": 3
   },
   "file_extension": ".py",
   "mimetype": "text/x-python",
   "name": "python",
   "nbconvert_exporter": "python",
   "pygments_lexer": "ipython3",
   "version": "3.8.10"
  }
 },
 "nbformat": 4,
 "nbformat_minor": 4
}