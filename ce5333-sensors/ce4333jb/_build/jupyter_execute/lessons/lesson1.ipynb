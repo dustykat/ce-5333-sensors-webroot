{
 "cells": [
  {
   "cell_type": "markdown",
   "metadata": {},
   "source": [
    "# Configuring the Single Board Computer(s)\n",
    "\n",
    "## Introduction\n",
    "\n",
    "The computer used in most of the lesson/laboratories is a Raspberry Pi Zero-W \n",
    "\n",
    "## Installing a RPi OS \n",
    "\n",
    "Link to current OS images\n",
    "\n",
    "### Flashing an Image onto a SD Card\n",
    "\n",
    "### Booting from the SD Card\n",
    "\n",
    "### Updating the OS\n",
    "\n",
    "### Configuring a VNCserver \n",
    "\n",
    "### Reboot and run headless\n"
   ]
  },
  {
   "cell_type": "markdown",
   "metadata": {},
   "source": [
    "## Configure RPi as WAP (Optional)"
   ]
  },
  {
   "cell_type": "markdown",
   "metadata": {},
   "source": []
  },
  {
   "cell_type": "markdown",
   "metadata": {},
   "source": []
  },
  {
   "cell_type": "markdown",
   "metadata": {},
   "source": []
  },
  {
   "cell_type": "markdown",
   "metadata": {},
   "source": []
  },
  {
   "cell_type": "markdown",
   "metadata": {},
   "source": []
  },
  {
   "cell_type": "markdown",
   "metadata": {},
   "source": []
  }
 ],
 "metadata": {
  "kernelspec": {
   "display_name": "Python 3",
   "language": "python",
   "name": "python3"
  },
  "language_info": {
   "codemirror_mode": {
    "name": "ipython",
    "version": 3
   },
   "file_extension": ".py",
   "mimetype": "text/x-python",
   "name": "python",
   "nbconvert_exporter": "python",
   "pygments_lexer": "ipython3",
   "version": "3.8.10"
  }
 },
 "nbformat": 4,
 "nbformat_minor": 4
}