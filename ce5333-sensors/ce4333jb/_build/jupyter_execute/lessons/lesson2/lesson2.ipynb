{
 "cells": [
  {
   "cell_type": "markdown",
   "metadata": {},
   "source": [
    "# Infrared Motion Detector\n",
    "\n",
    "A simple sensor system to test our microcomputer is an infrared motion detector using a passive infrared (PIR) detector.  \n",
    "\n",
    "## Objective\n",
    "\n",
    "Our objective is really to simply test our build, a PIR sensor is quite simple to construct, so its a good starting point.  The sensor and code can be adapted to practical uses, so although simplistic here - a little refinement can produce a useful tool for some engineering measurements.\n",
    "\n",
    "## Operation Principle\n",
    "\n",
    "Passive infrared (PIR) sensors use a pair of pyroelectric sensors to detect heat energy in the surrounding environment. These two sensors sit beside each other, and when the signal differential between the two sensors changes (if a person enters the room, for example), the sensor will engage. That may mean it triggers an alarm, notifies authorities, or maybe turns on a floodlight. IR radiation focuses on each of the two pyroelectric sensors using a series of lenses constructed as the sensor’s housing. These lenses widen the device’s sensing area.\n",
    "\n",
    "While the lens setup and sensor electronics are sophisticated technology, these units are easy to use in a practical application. You only need power and ground for the sensor to produce a discreet output that’s strong enough for a microcontroller to use. Typical adjustments include adding potentiometers for sensitivity and tweaking how long a PIR stays engaged once it’s triggered. You can also toggle the sensor between:\n",
    "\n",
    " - Staying on for a set amount of time after detecting movement.\n",
    " - Pulsing on and off in a “non-retriggering” mode.\n",
    "\n",
    "You’ll commonly see PIR sensors in security alarms and automatic lighting setups. These applications don’t require that the sensor detect an object’s specific location, just that objects or people in a particular area are moving around.\n",
    "\n",
    "## Hardware\n",
    "\n",
    "For this lesson we will use the KS0052 PIR module [https://wiki.keyestudio.com/Ks0052_keyestudio_PIR_Motion_Sensor](https://wiki.keyestudio.com/Ks0052_keyestudio_PIR_Motion_Sensor).  It costs about \\$13 USD for a box of three modules. You can buy it at Amazon and a few other sources [https://www.amazon.com/KEYESTUDIO-Motion-Sensor-Arduino-Pyroelectric/dp/B07FGDW24X/ref=dp_prsubs_1?pd_rd_i=B07FGDW24X&psc=1](https://www.amazon.com/KEYESTUDIO-Motion-Sensor-Arduino-Pyroelectric/dp/B07FGDW24X/ref=dp_prsubs_1?pd_rd_i=B07FGDW24X&psc=1)"
   ]
  },
  {
   "cell_type": "markdown",
   "metadata": {},
   "source": [
    "## GPIO API Libraries\n",
    "\n",
    "Several libraries (external modules in python parlance) are available to communicate with the hardware module.  In this lesson we will use `gpiozero`[https://gpiozero.readthedocs.io/en/stable/index.html](https://gpiozero.readthedocs.io/en/stable/index.html).\n",
    "\n",
    "This library produces really simple to read code (naturally there is a lot going under the hood), and appears to install with Raspberry Pi OS.  A list of available \"recipies\" (functions that access the GPIO pins) is located at [https://gpiozero.readthedocs.io/en/stable/recipes.html#](https://gpiozero.readthedocs.io/en/stable/recipes.html#)\n",
    "\n",
    "The \"recipes\" either operate on pins using the naming convention depicted in the figure\n",
    "\n",
    "![](PinDiagram.png)\n",
    "\n",
    "or the physical pin using the `BOARD##` directive.  \n",
    "\n",
    "Depending on the library used we will be specifying logical or physcial pins throughout this course; because the audience is Civil Engineering students, our goal is to get stuff to work - we don't particularly care about the details of the little black boxes that are the sensor modules and these various libraries."
   ]
  },
  {
   "cell_type": "markdown",
   "metadata": {},
   "source": [
    "## 3-Pin Sensors\n",
    "\n",
    "The KS0052 is a three-pin sensor module - these are pretty common we will supply power via a voltage input (+5VDC) and ground, and read the sensor output on the third pin which is labeled the signal pin.  \n",
    "\n",
    "The figure below is a wiring diagram from [https://projects.raspberrypi.org/en/projects/physical-computing/11](https://projects.raspberrypi.org/en/projects/physical-computing/11)\n",
    "\n",
    "![](WiringDiagram.png)\n",
    "\n",
    "I dont pay a lot of attention to wire color in these diagrams, but we have to get the pin terminals correct for stuff to work.  Here are photographs of our setup\n",
    "\n",
    "![](PIR-system.png)\n",
    "\n",
    "A close-up of the sensor module\n",
    "\n",
    "![](PIR-module.png)\n",
    "\n",
    "and a close-up of the pin header extension board.\n",
    "\n",
    "![](PIR-GPIO.png)\n"
   ]
  },
  {
   "cell_type": "markdown",
   "metadata": {},
   "source": [
    "## Sample Code\n",
    "\n",
    "Our sample code is listed below. The `MotionSensor(logicalPin)` recipe is assigned to an object named pir.  A polling loop is started (notice it runs indefinitely - a keyboard interrupt stops it) when the sensor detects a thermal change it sends a message to the terminal and prints a message.  When nothing is going on, it just keeps polling.  Its a dumb program as written but will let us test our computer system."
   ]
  },
  {
   "cell_type": "markdown",
   "metadata": {},
   "source": [
    "```\n",
    "# PIR Detector Example Program\n",
    "# Simple first GPIO program\n",
    "# Code is copied/adapted from https://projects.raspberrypi.org/en/projects/physical-computing/11\n",
    "\n",
    "# May have to use pip to get the gpio api\n",
    "\n",
    "from gpiozero import MotionSensor\n",
    "\n",
    "pir = MotionSensor(4)\n",
    "\n",
    "while True:\n",
    "        pir.wait_for_motion()\n",
    "        print(\"You moved\")\n",
    "        pir.wait_for_no_motion()\n",
    "```"
   ]
  },
  {
   "cell_type": "markdown",
   "metadata": {},
   "source": [
    "## Running the System\n",
    "\n",
    "The code above is saved to a file named `PIRdetector.py` which was written using the IDLE editor, although nano would have been just fine.  To run the script we simply execute \n",
    "`$ python3 PIRdetector.py`\n",
    "\n",
    "A screen capture after starting is below\n",
    "\n",
    "![](StartProgram.png)\n",
    "\n",
    "Then using a very bright torch as a heat source we cause a $\\Delta T$ in the sensor a few times.\n",
    "\n",
    "![](SeveralMoves.png)\n",
    "\n",
    "Finally we send a termination signal.\n",
    "\n",
    "![](TerminateProgram.png)\n"
   ]
  },
  {
   "cell_type": "markdown",
   "metadata": {},
   "source": [
    "## Refinement\n",
    "\n",
    "A meaningful refinement would be to report the time when motion is detected, as shown below\n",
    "\n",
    "```\n",
    "# PIR Detector Example Program\n",
    "# Simple first GPIO program\n",
    "# Code is copied/adapted from https://projects.raspberrypi.org/en/projects/physical-computing/11\n",
    "\n",
    "# May have to use pip to get the gpio api\n",
    "\n",
    "from gpiozero import MotionSensor\n",
    "import time\n",
    "\n",
    "\n",
    "pir = MotionSensor(4)\n",
    "\n",
    "while True:\n",
    "        pir.wait_for_motion()\n",
    "        now = time.strftime(\"%c\") #time detect motion\n",
    "        print(\"Motion Detect @ \" + now)\n",
    "        pir.wait_for_no_motion()\n",
    "```\n",
    "\n",
    "Here is the program run for a bit then interrupted\n",
    "\n",
    "![](TimedMoves.png)\n"
   ]
  },
  {
   "cell_type": "markdown",
   "metadata": {},
   "source": [
    "## Exercises\n",
    "\n",
    "1. Refine the program to detect motion over a 120 second interval then self-terminate.  Research the `time` module to figure out how to run the program for 120 seconds elapsed time. \n",
    "\n",
    "2. Read the MotionSensor recipe at[https://gpiozero.readthedocs.io/en/stable/recipes.html#](https://gpiozero.readthedocs.io/en/stable/recipes.html#).  Using the documentation as a guide, build a system that not only reports time of detection but activates an LED signal when motion is detected.\n",
    "\n",
    ":::{Note}\n",
    "The exercises are simple, but important - if you are new to controller programming you may find Exercise 1 difficult, but just apply the problem solving protocol in ENGR 1330 to work out a wrapper then embed the detector recipe.  Its fine to use Google and copy/cite other people's code just include at least a URL to the code source.\n",
    ":::"
   ]
  },
  {
   "cell_type": "code",
   "execution_count": null,
   "metadata": {},
   "outputs": [],
   "source": []
  },
  {
   "cell_type": "code",
   "execution_count": null,
   "metadata": {},
   "outputs": [],
   "source": []
  }
 ],
 "metadata": {
  "kernelspec": {
   "display_name": "Python 3",
   "language": "python",
   "name": "python3"
  },
  "language_info": {
   "codemirror_mode": {
    "name": "ipython",
    "version": 3
   },
   "file_extension": ".py",
   "mimetype": "text/x-python",
   "name": "python",
   "nbconvert_exporter": "python",
   "pygments_lexer": "ipython3",
   "version": "3.8.10"
  }
 },
 "nbformat": 4,
 "nbformat_minor": 4
}