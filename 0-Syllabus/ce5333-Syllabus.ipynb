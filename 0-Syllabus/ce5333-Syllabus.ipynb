{
 "cells": [
  {
   "cell_type": "code",
   "execution_count": 1,
   "metadata": {
    "jupyter": {
     "source_hidden": true
    }
   },
   "outputs": [
    {
     "name": "stdout",
     "output_type": "stream",
     "text": [
      "atomickitty.arm64\n",
      "aquarius\n",
      "/opt/jupyterhub/bin/python3\n",
      "3.8.5 (default, Jul 28 2020, 12:59:40) \n",
      "[GCC 9.3.0]\n",
      "sys.version_info(major=3, minor=8, micro=5, releaselevel='final', serial=0)\n",
      "Sun Nov 22 21:31:03 UTC 2020\n"
     ]
    }
   ],
   "source": [
    "# Script block to identify host, user, and kernel\n",
    "import sys\n",
    "! hostname\n",
    "! whoami\n",
    "print(sys.executable)\n",
    "print(sys.version)\n",
    "print(sys.version_info)\n",
    "! date"
   ]
  },
  {
   "cell_type": "code",
   "execution_count": 2,
   "metadata": {
    "jupyter": {
     "source_hidden": true
    }
   },
   "outputs": [
    {
     "data": {
      "text/html": [
       "<!--Script block to left align Markdown Tables-->\n",
       "<style>\n",
       "  table {margin-left: 0 !important;}\n",
       "</style>\n"
      ],
      "text/plain": [
       "<IPython.core.display.HTML object>"
      ]
     },
     "metadata": {},
     "output_type": "display_data"
    }
   ],
   "source": [
    "%%html\n",
    "<!--Script block to left align Markdown Tables-->\n",
    "<style>\n",
    "  table {margin-left: 0 !important;}\n",
    "</style>"
   ]
  },
  {
   "cell_type": "markdown",
   "metadata": {},
   "source": [
    "# CE 5333 Civil Engineering Sensor Systems Integration"
   ]
  },
  {
   "cell_type": "markdown",
   "metadata": {},
   "source": [
    "## Course Description: \n",
    "\n",
    "A hands-on ”maker” course to develop homebrew sensor and data aquisition tools.  \n",
    "Intended for researchers desiring to (automatically/remotely) collect data at low cost for screening level data.  \n",
    "The sensors and programs are adaptable to professional use.  \n",
    "\n",
    "Entire systems will be built and demonstrated - the  projects  are  mostly  water  related,  but  concepts  are  transferable  to  other  Civil  sub-disciplines.   Intended  for  graduate  students  with  minimal  electronics  skills,  and  minimal computer administration skills.  \n",
    "\n",
    "Students should know how to solder and have had a circuits class somewhere.\n",
    "\n",
    "Topics include:\n",
    "- System on chip computing (a little history).\n",
    "- Pratical applications of sensing technology.\n",
    "- Building a sensing and recording system (prototype) using RPi\n",
    "- Making deployment copies on a RPi-Zero\n",
    "- Wireless communications using the RPi 4 as the controller and the RPi-zero as the slave\n",
    "- Remote procedures - running the remote from a distance.\n",
    "- Data processing for interpretation\n",
    "- Python for device control\n",
    "\n",
    "## Catalog Description\n",
    "\n",
    "CE 5333: Special Problems in Water Resources (3:3:0). Individual studies in water resources. May be repeated for credit. \n",
    "\n",
    "## Prerequisites: \n",
    "\n",
    "Prior programming background (ENGR 1330 or equivalent) is required.  The course is intended for first-year graduate students.\n",
    "\n",
    "## Course Sections (in this syllabus)\n",
    "Lesson time, days, and location: \n",
    "\n",
    "1. Section XXX; CRN XXXXX; 0800-0920 T, TH ; TBA\n",
    "\n",
    "## Course Instructor:\n",
    "\n",
    "Instructor: Theodore G. Cleveland, Ph.D., P.E., M. ASCE, F. EWRI\n",
    "\n",
    "Email: theodore.cleveland@ttu.edu  (Put CE 5333 Sensors in the subject line)\n",
    "\n",
    "Office location: Telepresence (Zoom)\n",
    "\n",
    "Office hours: TBD\n",
    "\n",
    "## Teaching assistants:\n",
    "\n",
    "Assistant: Not Authorized\n",
    "\n",
    "Email : NA\n",
    "\n",
    "Office location: NA\n",
    "\n",
    "Office hours: NA"
   ]
  },
  {
   "cell_type": "markdown",
   "metadata": {},
   "source": [
    "## COVID-19 Important Guidelines:\n",
    "* If Texas Tech University campus operations are required to change because of health concerns related to the COVID-19 pandemic, it is possible that this course will move to a fully online delivery format.  Should that be necessary, students will be advised of technical and/or equipment requirements, including remote proctoring software.  \n",
    "\n",
    "* Policy on absences resulting from illness: We anticipate that some students may have extended absences.  To avoid students feeling compelled to attend in-person class periods when having symptoms or feeling unwell, a standard policy is provided that holds students harmless for illness-related absences (see Section A below).\n",
    "\n",
    "\n",
    "### A. Illness-Based Absence Policy (Face-to-Face CLasses)\n",
    "If at any time during the semester you are ill, in the interest of your own health and safety as well as the health and safety of your instructors and classmates, you are encouraged not to attend face-to-face class meetings or events.  Please review the steps outlined below that you should follow to ensure your absence for illness will be excused.  These steps also apply to not participating in synchronous online class meetings if you feel too ill to do so and missing specified assignment due dates in asynchronous online classes because of illness.\n",
    "\n",
    "1. If you are ill and think the symptoms might be COVID-19-related:\n",
    "\n",
    "    1. Call Student Health Services at 806.743.2848 or your health care provider.  During after-hours and on weekends, contact TTU COVID-19 Helpline at TBD.\n",
    "    2. Self-report as soon as possible using the Dean of Students COVID-19 webpage. This website has specific directions about how to upload documentation from a medical provider and what will happen if your illness renders you unable to participate in classes for more than one week.\n",
    "    3. If your illness is determined to be COVID-19-related, all remaining documentation and communication will be handled through the Office of the Dean of Students, including notification of your instructors of the time you may be absent from and may return to classes.\n",
    "    4. If your illness is determined not to be COVID-19-related, please follow steps 2.a-d below.\n",
    "\n",
    "\n",
    "2. If you are ill and can attribute your symptoms to something other than COVID-19:\n",
    "\n",
    "    1. If your illness renders you unable to attend face-to-face classes, participate in synchronous online classes, or miss specified assignment due dates in asynchronous online classes, you are encouraged to contact either Student Health Services at 806.743.2848 or your health care provider.  Note that Student Health Services and your own and other health care providers may arrange virtual visits.\n",
    "    2. During the health provider visit, request a “return to school” note.\n",
    "    3. E-mail the instructor a picture of that note.\n",
    "    4. Return to class by the next class period after the date indicated on your note.\n",
    "\n",
    "Following the steps outlined above helps to keep your instructors informed about your absences and ensures your absence or missing an assignment due date because of illness will be marked excused.  You will still be responsible to complete within a week of returning to class any assignments, quizzes, or exams you miss because of illness.\n",
    "\n",
    "### B. Illness-Based Absence Policy (Telepresence CLasses)\n",
    "Same as above with respect potential to infect others; go to a health care provider if you are ill.  Telepresence courses are recorded and will be available on TTU MediaSite and/or YouTube (unlisted).  Exercises, Quizzes, and Examinations are all administered by a Learning Management System (Blackboard) and users need to allow enough time to complete and upload their work>"
   ]
  },
  {
   "cell_type": "markdown",
   "metadata": {},
   "source": [
    "## Textbook: \n",
    "\n",
    "course notes\n"
   ]
  },
  {
   "cell_type": "markdown",
   "metadata": {},
   "source": [
    "## Course Contents: \n",
    "Student teams will build and program a selection of the following sensor system projects \n",
    "\n",
    "### Data Acquisition Support Tools (All required)\n",
    "|ID|Activity |Dependencies|Status|\n",
    "|:---|:---|:---|:---|\n",
    "|1|RPi-3/4  with  OS|etcher|required|\n",
    "|2|RPi-0W with OS|etcher|required|\n",
    "|3|RPi-3/4 as WAP|required|\n",
    "|4|A/D converter 8-channel, 10-bit|MCP3008|required|\n",
    "\n",
    "### Resistance-Type Sensors (Choose 1 project)\n",
    "|ID|Activity |Dependencies|Status|\n",
    "|:---|:---|:---|:---|\n",
    "|5|Water-level detector|A/D converter||\n",
    "|6|IR remote temperature detection|A/D converter||\n",
    "|7|Gas pressure sensor|A/D converter||\n",
    "|8|Normal Stress sensor|A/D converter||\n",
    "|9|Soil moisture sensor array|A/D converter||\n",
    "\n",
    "### Digital-Type Sensors (Choose 1 project)\n",
    "|ID|Activity |Dependencies|Status|\n",
    "|:---|:---|:---|:---|\n",
    "|10|Mass flow meter|||\n",
    "|11|Tipping bucket raingage |||\n",
    "|12|Ultrasonic time-of-flight detector|||\n",
    "|13|Optical laser time-of-flight detector|||\n",
    "\n",
    "### Sensor-based control (Choose 1 project)\n",
    "|ID|Activity |Dependencies|Status|\n",
    "|:---|:---|:---|:---|\n",
    "|14|Pump controller|A/D converter;External Power||\n",
    "\n",
    "### Image-based sensors (Optional)\n",
    "|ID|Activity |Dependencies|Status|\n",
    "|:---|:---|:---|:---|\n",
    "|15| Thermal plume tracing|FLIR sensor; image prosessing||\n",
    "\n",
    "\n",
    "\n"
   ]
  },
  {
   "cell_type": "markdown",
   "metadata": {},
   "source": [
    "## Learning Outcomes: \n",
    "On completion of the course, students will have\n",
    "1.  Provision a single-board computer(Raspberry PI; Hardkernel XU4;  Arduino,  etc) to run a Linux instance and host a wireless network.\n",
    "2. Construct Analog-to-Digital Converter using MP3008 microprocessor.\n",
    "3.  Attach sensors to system using GPIO pins.\n",
    "4.  Write custom Python scripts to control sensors, collect, and process data\n",
    "5.  Use custom built system to control a device based on sensor input.\n",
    "6.  Perform control activities using remote procedure calls.\n"
   ]
  },
  {
   "cell_type": "markdown",
   "metadata": {},
   "source": [
    "## ABET Student Outcomes\n",
    "* Engineering:\n",
    "    1. An ability to identify, formulate, and solve complex engineering problems by applying principles of engineering, science, and mathematics.\n",
    "    2. An ability to acquire and apply new knowledge as needed, using appropriate learning strategies. \n",
    "    \n",
    "\n",
    "* Computer Science:\n",
    "\n",
    "    1. Analyze a complex computing problem and to apply principles of computing and other relevant disciplines to identify solutions.  \n",
    "    2. Design, implement, and evaluate a computing-based solution to meet a given set of computing requirements in the context of the program’s discipline.  \n"
   ]
  },
  {
   "cell_type": "markdown",
   "metadata": {},
   "source": [
    "### Platforms for Python Programming (for your own laptop computers)\n",
    "1. Anaconda platform (https://www.anaconda.com/): Anaconda distribution is an open-source Data Science Distribution Development Platform.  It includes Python 3 with over 1,500 data science packages making it easy to manage libraries and dependencies.  Available in Linux, Windows, and Mac OS X.  \n",
    "2. Jupyter (https://jupyter.org/): JupyterLab is a web-based interactive development environment for Jupyter notebooks, code, and data. JupyterLab is flexible: Configure and arrange the user interface to support a wide range of workflows in data science, scientific computing, and machine learning. `note` Anaconda for MacOS includes a JupyterLab instance, so a separate install is not required.\n",
    "\n",
    "### Additional Modules that are needed\n",
    "3. Math module (https://docs.python.org/3/library/math.html): Gives access to the mathematical functions defined by the C standard e.g. factorial, gcd, exponential, logarithm. \n",
    "4. GPIO module ():\n",
    "\n",
    "In fact this syllabus was created using a JupyterLab notebook (as a markdown processor). "
   ]
  },
  {
   "cell_type": "markdown",
   "metadata": {},
   "source": [
    "## Course Schedule \n",
    "\n",
    "| Item | Lesson | Homework/Labwork |\n",
    "|:---|:---|:---|\n",
    "|dd mm yyyy|1. Introduction <br> - subtopic1 <br> -subtopic 2| topic name <br> - subtopic1 <br> -subtopic 2 |\n",
    "|dd mm yyyy|2. topic name <br> - subtopic1 <br> -subtopic 2| topic name <br> - subtopic1 <br> -subtopic 2|\n",
    "|dd mm yyyy|3. Introduction <br> - subtopic1 <br> -subtopic 2| topic name <br> - subtopic1 <br> -subtopic 2 |\n",
    "|dd mm yyyy|4. topic name <br> - subtopic1 <br> -subtopic 2| topic name <br> - subtopic1 <br> -subtopic 2|\n",
    "|dd mm yyyy|5. Introduction <br> - subtopic1 <br> -subtopic 2| topic name <br> - subtopic1 <br> -subtopic 2 |\n",
    "|dd mm yyyy|6. topic name <br> - subtopic1 <br> -subtopic 2| topic name <br> - subtopic1 <br> -subtopic 2|\n",
    "|dd mm yyyy|7. Introduction <br> - subtopic1 <br> -subtopic 2| topic name <br> - subtopic1 <br> -subtopic 2 |\n",
    "|dd mm yyyy|8. topic name <br> - subtopic1 <br> -subtopic 2| topic name <br> - subtopic1 <br> -subtopic 2|\n",
    "|dd mm yyyy|9. Introduction <br> - subtopic1 <br> -subtopic 2| topic name <br> - subtopic1 <br> -subtopic 2 |\n",
    "|dd mm yyyy|10. topic name <br> - subtopic1 <br> -subtopic 2| topic name <br> - subtopic1 <br> -subtopic 2|\n",
    "|dd mm yyyy|11. Introduction <br> - subtopic1 <br> -subtopic 2| topic name <br> - subtopic1 <br> -subtopic 2 |\n",
    "|dd mm yyyy|12. topic name <br> - subtopic1 <br> -subtopic 2| topic name <br> - subtopic1 <br> -subtopic 2|\n",
    "|dd mm yyyy|13. Introduction <br> - subtopic1 <br> -subtopic 2| topic name <br> - subtopic1 <br> -subtopic 2 |\n",
    "|dd mm yyyy|14. topic name <br> - subtopic1 <br> -subtopic 2| topic name <br> - subtopic1 <br> -subtopic 2|\n",
    "|dd mm yyyy|15. Introduction <br> - subtopic1 <br> -subtopic 2| topic name <br> - subtopic1 <br> -subtopic 2 |\n",
    "|dd mm yyyy|16. topic name <br> - subtopic1 <br> -subtopic 2| topic name <br> - subtopic1 <br> -subtopic 2|\n",
    "|dd mm yyyy|17. Introduction <br> - subtopic1 <br> -subtopic 2| topic name <br> - subtopic1 <br> -subtopic 2 |\n",
    "|dd mm yyyy|18. topic name <br> - subtopic1 <br> -subtopic 2| topic name <br> - subtopic1 <br> -subtopic 2|\n",
    "|dd mm yyyy|19. Introduction <br> - subtopic1 <br> -subtopic 2| topic name <br> - subtopic1 <br> -subtopic 2 |\n",
    "|dd mm yyyy|20. topic name <br> - subtopic1 <br> -subtopic 2| topic name <br> - subtopic1 <br> -subtopic 2|\n",
    "|dd mm yyyy|21. Introduction <br> - subtopic1 <br> -subtopic 2| topic name <br> - subtopic1 <br> -subtopic 2 |\n",
    "|dd mm yyyy|22. topic name <br> - subtopic1 <br> -subtopic 2| topic name <br> - subtopic1 <br> -subtopic 2|\n",
    "|dd mm yyyy|23. Introduction <br> - subtopic1 <br> -subtopic 2| topic name <br> - subtopic1 <br> -subtopic 2 |\n",
    "|dd mm yyyy|24. topic name <br> - subtopic1 <br> -subtopic 2| topic name <br> - subtopic1 <br> -subtopic 2|\n",
    "|dd mm yyyy|25. Introduction <br> - subtopic1 <br> -subtopic 2| topic name <br> - subtopic1 <br> -subtopic 2 |\n",
    "|dd mm yyyy|26. topic name <br> - subtopic1 <br> -subtopic 2| topic name <br> - subtopic1 <br> -subtopic 2|\n"
   ]
  },
  {
   "cell_type": "markdown",
   "metadata": {},
   "source": [
    "## Course Assessment and Grading Criteria:\n",
    "There will be three midterm exams and one comprehensive final project for the course.  \n",
    "In addition, lab participation, quizzes, and assignments also contribute to the final grade.  \n",
    "<strong>Late</strong> assignments will not be scored.  \n",
    "\n",
    "Grades will be based on the following components; weighting is approximate:\n",
    "\n",
    "|Assessment Instrument|Total points|Weight(%)|\n",
    "|---|---:|---:|\n",
    "|Required Projects|500|50|\n",
    "|Resistance-Type Project|100|10|\n",
    "|Digital-Type Project|100|10|\n",
    "|Control Project|100|10|\n",
    "|Exams|200|20|\n",
    "|Overall total|1000|100|\n",
    "\n",
    "Letter grades will be assigned using the following proportions:\n",
    "\n",
    "|Normalized Score Range|Letter Grade|\n",
    "|:-|---:|\n",
    "|≥ 90|A|\n",
    "|80-89|B|\n",
    "|70-79|C|\n",
    "|55-69|D|\n",
    "|< 55|F|\n",
    "\n",
    "\n"
   ]
  },
  {
   "cell_type": "markdown",
   "metadata": {},
   "source": [
    "## Classroom Policy:\n",
    "The following activities are not allowed in the classroom: Texting or talking on the cellphone or other electronic devices, and reading non-course related materials.\n",
    "### Telepresence (On-line) Courses\n",
    "Obviously electronic devices are vital; disrupting the webinar is prohibited, please mute your microphone unless you have a question - consider typing your question into the chat window as well. \n"
   ]
  },
  {
   "cell_type": "markdown",
   "metadata": {},
   "source": [
    "## ADA Statement: \n",
    "Any student who, because of a disability, may require special arrangements in order to meet the course requirements should contact the instructor as soon as possible to make necessary arrangements.  Students must present appropriate verification from Student Disability Services during the instructor's office hours.  Please note that instructors are not allowed to provide classroom accommodation to a student until appropriate verification from Student Disability Services has been provided.  For additional information, please contact Student Disability Services \n",
    "office in 335 West Hall or call 806.742.2405.\n",
    "\n",
    "## Academic Integrity Statement:\n",
    "Academic integrity is taking responsibility for one’s own class and/or course work, being individually accountable, and demonstrating intellectual honesty and ethical behavior.  Academic integrity is a personal choice to abide by the standards of intellectual honesty and responsibility.  Because education is a shared effort to achieve learning through the exchange of ideas, students, faculty, and staff have the collective responsibility to build mutual trust and respect.  Ethical behavior and independent thought are essential for the highest level of academic achievement, which then must be measured.  Academic achievement includes scholarship, teaching, and learning, all of which are shared endeavors.  Grades are a device used to quantify the successful accumulation of knowledge through learning.  Adhering to the standards of academic integrity ensures grades are earned honestly.  Academic integrity is the foundation upon which students, faculty, and staff build their educational and professional careers.  [Texas Tech University (“University”) Quality Enhancement Plan, Academic Integrity Task Force, 2010].\n",
    "\n",
    "## Religious Holy Day Statement: \n",
    "“Religious holy day” means a holy day observed by a religion whose places of worship are exempt from property taxation under Texas Tax Code §11.20.  A student who intends to observe a religious holy day should make that intention known to the instructor prior to the absence.  A student who is absent from classes for the observance of a religious holy day shall be allowed to take an examination or complete an assignment scheduled for that day within a reasonable time after the absence.  A student who is excused may not be penalized for the absence; however, the instructor may respond appropriately if the student fails to complete the assignment satisfactorily.\n",
    "\n",
    "## Ethical Conduct Policy:\n",
    "Cheating is prohibited, and the representation of the work of another person as your own will be grounds for receiving a failing grade in the course.\n"
   ]
  },
  {
   "cell_type": "markdown",
   "metadata": {},
   "source": []
  }
 ],
 "metadata": {
  "kernelspec": {
   "display_name": "Python 3",
   "language": "python",
   "name": "python3"
  },
  "language_info": {
   "codemirror_mode": {
    "name": "ipython",
    "version": 3
   },
   "file_extension": ".py",
   "mimetype": "text/x-python",
   "name": "python",
   "nbconvert_exporter": "python",
   "pygments_lexer": "ipython3",
   "version": "3.8.10"
  }
 },
 "nbformat": 4,
 "nbformat_minor": 4
}
